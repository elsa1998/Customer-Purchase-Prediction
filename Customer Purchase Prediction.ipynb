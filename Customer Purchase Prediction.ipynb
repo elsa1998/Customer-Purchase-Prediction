{
 "cells": [
  {
   "cell_type": "markdown",
   "id": "77f7c183",
   "metadata": {},
   "source": [
    "# Customer Purchase Prediction"
   ]
  },
  {
   "cell_type": "markdown",
   "id": "a65ecee9",
   "metadata": {},
   "source": [
    "### Data\n",
    "This dataset is about whether or not different consumers purchase in response to a test mailing of a certain catalog and, how much money each consumer spent. This dataset has two possible outcome variables: Purchase (0/1 value: whether or not the purchase was made) and Spending (numeric value: amount spent). \n",
    "\n",
    "### Goal\n",
    "Build numeric prediction models that predict Spending based on the other available customer information.\n",
    "\n",
    "### Result\n",
    "1st Explore data\n",
    "\n",
    "2nd Modeling based on all data (linear regression, KNN, regression tree, SVM regression, ensembling models, neural network)\n",
    "\n",
    "3rd Modeling based on “restricted” dataset, which includes only purchase records (i.e., where Purchase = 1)\n",
    "\n",
    "4th Compare performance between 2nd and 3rd\n",
    "\n",
    "### Variable Description\n",
    "US -- a US address? (binary, 1/0)\n",
    "\n",
    "2-16 Source_* -- Source catalog for the record (binary, 1/0)\n",
    "\n",
    "Freq. -- Number of transactions in last year at source catalog (numeric)\n",
    "\n",
    "last_update_days_ago -- How many days ago was last update to cust. record (numeric)\n",
    "\n",
    "1st_update_days_ago -- How many days ago was 1st update to cust. record (numeric)\n",
    "\n",
    "Web_order -- Customer placed at least 1 order via web (binary, 1/0)\n",
    "\n",
    "Gender=male -- Customer is male (binary, 1/0)\n",
    "\n",
    "Address_is_res -- Address is a residence binary (binary, 1/0)\n",
    "\n",
    "Purchase -- Person made purchase in test mailing (binary, 1/0)\n",
    "\n",
    "Spending -- Amount spent by customer in test mailing ($) (numeric)"
   ]
  },
  {
   "cell_type": "markdown",
   "id": "f2c8f089",
   "metadata": {},
   "source": [
    "## Data Processing"
   ]
  },
  {
   "cell_type": "code",
   "execution_count": 1,
   "id": "6718adc4",
   "metadata": {},
   "outputs": [],
   "source": [
    "import numpy as np\n",
    "import pandas as pd\n",
    "import matplotlib.pyplot as plt\n",
    "import seaborn as sns\n",
    "%matplotlib inline\n",
    "\n",
    "from sklearn.model_selection import train_test_split, KFold, GridSearchCV, cross_val_score\n",
    "from sklearn.metrics import r2_score, mean_squared_error, make_scorer\n",
    "from sklearn.tree import DecisionTreeRegressor, DecisionTreeClassifier\n",
    "from sklearn.linear_model import LinearRegression, LogisticRegression, ElasticNet\n",
    "from sklearn.neighbors import KNeighborsRegressor, KNeighborsClassifier\n",
    "from sklearn.svm import SVR\n",
    "from sklearn.preprocessing import MinMaxScaler,StandardScaler\n",
    "from sklearn.ensemble import StackingRegressor, StackingClassifier, RandomForestRegressor\n",
    "\n",
    "import tensorflow as tf\n",
    "from tensorflow import keras\n",
    "from tensorflow.keras import layers\n",
    "from tensorflow.keras.wrappers.scikit_learn import KerasRegressor, KerasClassifier\n",
    "from tensorflow.keras.models import Sequential\n",
    "from tensorflow.keras.layers import Dense, Activation, Dropout\n",
    "from tensorflow.keras.utils import to_categorical\n",
    "import keras_tuner as kt\n",
    "\n",
    "import warnings\n",
    "warnings.filterwarnings(\"ignore\")"
   ]
  },
  {
   "cell_type": "code",
   "execution_count": 2,
   "id": "38d199a8",
   "metadata": {
    "scrolled": true
   },
   "outputs": [
    {
     "data": {
      "text/html": [
       "<div>\n",
       "<style scoped>\n",
       "    .dataframe tbody tr th:only-of-type {\n",
       "        vertical-align: middle;\n",
       "    }\n",
       "\n",
       "    .dataframe tbody tr th {\n",
       "        vertical-align: top;\n",
       "    }\n",
       "\n",
       "    .dataframe thead th {\n",
       "        text-align: right;\n",
       "    }\n",
       "</style>\n",
       "<table border=\"1\" class=\"dataframe\">\n",
       "  <thead>\n",
       "    <tr style=\"text-align: right;\">\n",
       "      <th></th>\n",
       "      <th>US</th>\n",
       "      <th>source_a</th>\n",
       "      <th>source_c</th>\n",
       "      <th>source_b</th>\n",
       "      <th>source_d</th>\n",
       "      <th>source_e</th>\n",
       "      <th>source_m</th>\n",
       "      <th>source_o</th>\n",
       "      <th>source_h</th>\n",
       "      <th>source_r</th>\n",
       "      <th>...</th>\n",
       "      <th>source_x</th>\n",
       "      <th>source_w</th>\n",
       "      <th>Freq</th>\n",
       "      <th>last_update_days_ago</th>\n",
       "      <th>1st_update_days_ago</th>\n",
       "      <th>Web order</th>\n",
       "      <th>Gender=male</th>\n",
       "      <th>Address_is_res</th>\n",
       "      <th>Purchase</th>\n",
       "      <th>Spending</th>\n",
       "    </tr>\n",
       "  </thead>\n",
       "  <tbody>\n",
       "    <tr>\n",
       "      <th>0</th>\n",
       "      <td>1</td>\n",
       "      <td>0</td>\n",
       "      <td>0</td>\n",
       "      <td>1</td>\n",
       "      <td>0</td>\n",
       "      <td>0</td>\n",
       "      <td>0</td>\n",
       "      <td>0</td>\n",
       "      <td>0</td>\n",
       "      <td>0</td>\n",
       "      <td>...</td>\n",
       "      <td>0</td>\n",
       "      <td>0</td>\n",
       "      <td>2</td>\n",
       "      <td>3662</td>\n",
       "      <td>3662</td>\n",
       "      <td>1</td>\n",
       "      <td>0</td>\n",
       "      <td>1</td>\n",
       "      <td>1</td>\n",
       "      <td>127.87</td>\n",
       "    </tr>\n",
       "    <tr>\n",
       "      <th>1</th>\n",
       "      <td>1</td>\n",
       "      <td>0</td>\n",
       "      <td>0</td>\n",
       "      <td>0</td>\n",
       "      <td>0</td>\n",
       "      <td>1</td>\n",
       "      <td>0</td>\n",
       "      <td>0</td>\n",
       "      <td>0</td>\n",
       "      <td>0</td>\n",
       "      <td>...</td>\n",
       "      <td>0</td>\n",
       "      <td>0</td>\n",
       "      <td>0</td>\n",
       "      <td>2900</td>\n",
       "      <td>2900</td>\n",
       "      <td>1</td>\n",
       "      <td>1</td>\n",
       "      <td>0</td>\n",
       "      <td>0</td>\n",
       "      <td>0.00</td>\n",
       "    </tr>\n",
       "    <tr>\n",
       "      <th>2</th>\n",
       "      <td>1</td>\n",
       "      <td>0</td>\n",
       "      <td>0</td>\n",
       "      <td>0</td>\n",
       "      <td>0</td>\n",
       "      <td>0</td>\n",
       "      <td>0</td>\n",
       "      <td>0</td>\n",
       "      <td>0</td>\n",
       "      <td>0</td>\n",
       "      <td>...</td>\n",
       "      <td>0</td>\n",
       "      <td>0</td>\n",
       "      <td>2</td>\n",
       "      <td>3883</td>\n",
       "      <td>3914</td>\n",
       "      <td>0</td>\n",
       "      <td>0</td>\n",
       "      <td>0</td>\n",
       "      <td>1</td>\n",
       "      <td>127.48</td>\n",
       "    </tr>\n",
       "    <tr>\n",
       "      <th>3</th>\n",
       "      <td>1</td>\n",
       "      <td>0</td>\n",
       "      <td>1</td>\n",
       "      <td>0</td>\n",
       "      <td>0</td>\n",
       "      <td>0</td>\n",
       "      <td>0</td>\n",
       "      <td>0</td>\n",
       "      <td>0</td>\n",
       "      <td>0</td>\n",
       "      <td>...</td>\n",
       "      <td>0</td>\n",
       "      <td>0</td>\n",
       "      <td>1</td>\n",
       "      <td>829</td>\n",
       "      <td>829</td>\n",
       "      <td>0</td>\n",
       "      <td>1</td>\n",
       "      <td>0</td>\n",
       "      <td>0</td>\n",
       "      <td>0.00</td>\n",
       "    </tr>\n",
       "    <tr>\n",
       "      <th>4</th>\n",
       "      <td>1</td>\n",
       "      <td>0</td>\n",
       "      <td>1</td>\n",
       "      <td>0</td>\n",
       "      <td>0</td>\n",
       "      <td>0</td>\n",
       "      <td>0</td>\n",
       "      <td>0</td>\n",
       "      <td>0</td>\n",
       "      <td>0</td>\n",
       "      <td>...</td>\n",
       "      <td>0</td>\n",
       "      <td>0</td>\n",
       "      <td>1</td>\n",
       "      <td>869</td>\n",
       "      <td>869</td>\n",
       "      <td>0</td>\n",
       "      <td>0</td>\n",
       "      <td>0</td>\n",
       "      <td>0</td>\n",
       "      <td>0.00</td>\n",
       "    </tr>\n",
       "  </tbody>\n",
       "</table>\n",
       "<p>5 rows × 24 columns</p>\n",
       "</div>"
      ],
      "text/plain": [
       "   US  source_a  source_c  source_b  source_d  source_e  source_m  source_o  \\\n",
       "0   1         0         0         1         0         0         0         0   \n",
       "1   1         0         0         0         0         1         0         0   \n",
       "2   1         0         0         0         0         0         0         0   \n",
       "3   1         0         1         0         0         0         0         0   \n",
       "4   1         0         1         0         0         0         0         0   \n",
       "\n",
       "   source_h  source_r  ...  source_x  source_w  Freq  last_update_days_ago  \\\n",
       "0         0         0  ...         0         0     2                  3662   \n",
       "1         0         0  ...         0         0     0                  2900   \n",
       "2         0         0  ...         0         0     2                  3883   \n",
       "3         0         0  ...         0         0     1                   829   \n",
       "4         0         0  ...         0         0     1                   869   \n",
       "\n",
       "   1st_update_days_ago  Web order  Gender=male  Address_is_res  Purchase  \\\n",
       "0                 3662          1            0               1         1   \n",
       "1                 2900          1            1               0         0   \n",
       "2                 3914          0            0               0         1   \n",
       "3                  829          0            1               0         0   \n",
       "4                  869          0            0               0         0   \n",
       "\n",
       "   Spending  \n",
       "0    127.87  \n",
       "1      0.00  \n",
       "2    127.48  \n",
       "3      0.00  \n",
       "4      0.00  \n",
       "\n",
       "[5 rows x 24 columns]"
      ]
     },
     "execution_count": 2,
     "metadata": {},
     "output_type": "execute_result"
    }
   ],
   "source": [
    "data = pd.read_excel('HW3.xlsx')\n",
    "data.drop('sequence_number', axis=1, inplace=True)\n",
    "data.head()"
   ]
  },
  {
   "cell_type": "markdown",
   "id": "96f8e5fb",
   "metadata": {},
   "source": [
    "## Exploratory Data Analysis"
   ]
  },
  {
   "cell_type": "code",
   "execution_count": 3,
   "id": "f71f67af",
   "metadata": {},
   "outputs": [
    {
     "data": {
      "text/html": [
       "<div>\n",
       "<style scoped>\n",
       "    .dataframe tbody tr th:only-of-type {\n",
       "        vertical-align: middle;\n",
       "    }\n",
       "\n",
       "    .dataframe tbody tr th {\n",
       "        vertical-align: top;\n",
       "    }\n",
       "\n",
       "    .dataframe thead th {\n",
       "        text-align: right;\n",
       "    }\n",
       "</style>\n",
       "<table border=\"1\" class=\"dataframe\">\n",
       "  <thead>\n",
       "    <tr style=\"text-align: right;\">\n",
       "      <th></th>\n",
       "      <th>US</th>\n",
       "      <th>source_a</th>\n",
       "      <th>source_c</th>\n",
       "      <th>source_b</th>\n",
       "      <th>source_d</th>\n",
       "      <th>source_e</th>\n",
       "      <th>source_m</th>\n",
       "      <th>source_o</th>\n",
       "      <th>source_h</th>\n",
       "      <th>source_r</th>\n",
       "      <th>...</th>\n",
       "      <th>source_x</th>\n",
       "      <th>source_w</th>\n",
       "      <th>Freq</th>\n",
       "      <th>last_update_days_ago</th>\n",
       "      <th>1st_update_days_ago</th>\n",
       "      <th>Web order</th>\n",
       "      <th>Gender=male</th>\n",
       "      <th>Address_is_res</th>\n",
       "      <th>Purchase</th>\n",
       "      <th>Spending</th>\n",
       "    </tr>\n",
       "  </thead>\n",
       "  <tbody>\n",
       "    <tr>\n",
       "      <th>count</th>\n",
       "      <td>2000.000000</td>\n",
       "      <td>2000.000000</td>\n",
       "      <td>2000.000000</td>\n",
       "      <td>2000.000000</td>\n",
       "      <td>2000.000000</td>\n",
       "      <td>2000.000000</td>\n",
       "      <td>2000.00000</td>\n",
       "      <td>2000.000000</td>\n",
       "      <td>2000.000000</td>\n",
       "      <td>2000.000000</td>\n",
       "      <td>...</td>\n",
       "      <td>2000.000000</td>\n",
       "      <td>2000.000000</td>\n",
       "      <td>2000.000000</td>\n",
       "      <td>2000.000000</td>\n",
       "      <td>2000.000000</td>\n",
       "      <td>2000.000000</td>\n",
       "      <td>2000.000000</td>\n",
       "      <td>2000.000000</td>\n",
       "      <td>2000.000000</td>\n",
       "      <td>2000.000000</td>\n",
       "    </tr>\n",
       "    <tr>\n",
       "      <th>mean</th>\n",
       "      <td>0.824500</td>\n",
       "      <td>0.126500</td>\n",
       "      <td>0.056000</td>\n",
       "      <td>0.060000</td>\n",
       "      <td>0.041500</td>\n",
       "      <td>0.151000</td>\n",
       "      <td>0.01650</td>\n",
       "      <td>0.033500</td>\n",
       "      <td>0.052500</td>\n",
       "      <td>0.068500</td>\n",
       "      <td>...</td>\n",
       "      <td>0.018000</td>\n",
       "      <td>0.137500</td>\n",
       "      <td>1.417000</td>\n",
       "      <td>2155.101000</td>\n",
       "      <td>2435.601500</td>\n",
       "      <td>0.426000</td>\n",
       "      <td>0.524500</td>\n",
       "      <td>0.221000</td>\n",
       "      <td>0.500000</td>\n",
       "      <td>102.560745</td>\n",
       "    </tr>\n",
       "    <tr>\n",
       "      <th>std</th>\n",
       "      <td>0.380489</td>\n",
       "      <td>0.332495</td>\n",
       "      <td>0.229979</td>\n",
       "      <td>0.237546</td>\n",
       "      <td>0.199493</td>\n",
       "      <td>0.358138</td>\n",
       "      <td>0.12742</td>\n",
       "      <td>0.179983</td>\n",
       "      <td>0.223089</td>\n",
       "      <td>0.252665</td>\n",
       "      <td>...</td>\n",
       "      <td>0.132984</td>\n",
       "      <td>0.344461</td>\n",
       "      <td>1.405738</td>\n",
       "      <td>1141.302846</td>\n",
       "      <td>1077.872233</td>\n",
       "      <td>0.494617</td>\n",
       "      <td>0.499524</td>\n",
       "      <td>0.415024</td>\n",
       "      <td>0.500125</td>\n",
       "      <td>186.749816</td>\n",
       "    </tr>\n",
       "    <tr>\n",
       "      <th>min</th>\n",
       "      <td>0.000000</td>\n",
       "      <td>0.000000</td>\n",
       "      <td>0.000000</td>\n",
       "      <td>0.000000</td>\n",
       "      <td>0.000000</td>\n",
       "      <td>0.000000</td>\n",
       "      <td>0.00000</td>\n",
       "      <td>0.000000</td>\n",
       "      <td>0.000000</td>\n",
       "      <td>0.000000</td>\n",
       "      <td>...</td>\n",
       "      <td>0.000000</td>\n",
       "      <td>0.000000</td>\n",
       "      <td>0.000000</td>\n",
       "      <td>1.000000</td>\n",
       "      <td>1.000000</td>\n",
       "      <td>0.000000</td>\n",
       "      <td>0.000000</td>\n",
       "      <td>0.000000</td>\n",
       "      <td>0.000000</td>\n",
       "      <td>0.000000</td>\n",
       "    </tr>\n",
       "    <tr>\n",
       "      <th>25%</th>\n",
       "      <td>1.000000</td>\n",
       "      <td>0.000000</td>\n",
       "      <td>0.000000</td>\n",
       "      <td>0.000000</td>\n",
       "      <td>0.000000</td>\n",
       "      <td>0.000000</td>\n",
       "      <td>0.00000</td>\n",
       "      <td>0.000000</td>\n",
       "      <td>0.000000</td>\n",
       "      <td>0.000000</td>\n",
       "      <td>...</td>\n",
       "      <td>0.000000</td>\n",
       "      <td>0.000000</td>\n",
       "      <td>1.000000</td>\n",
       "      <td>1133.000000</td>\n",
       "      <td>1671.250000</td>\n",
       "      <td>0.000000</td>\n",
       "      <td>0.000000</td>\n",
       "      <td>0.000000</td>\n",
       "      <td>0.000000</td>\n",
       "      <td>0.000000</td>\n",
       "    </tr>\n",
       "    <tr>\n",
       "      <th>50%</th>\n",
       "      <td>1.000000</td>\n",
       "      <td>0.000000</td>\n",
       "      <td>0.000000</td>\n",
       "      <td>0.000000</td>\n",
       "      <td>0.000000</td>\n",
       "      <td>0.000000</td>\n",
       "      <td>0.00000</td>\n",
       "      <td>0.000000</td>\n",
       "      <td>0.000000</td>\n",
       "      <td>0.000000</td>\n",
       "      <td>...</td>\n",
       "      <td>0.000000</td>\n",
       "      <td>0.000000</td>\n",
       "      <td>1.000000</td>\n",
       "      <td>2280.000000</td>\n",
       "      <td>2721.000000</td>\n",
       "      <td>0.000000</td>\n",
       "      <td>1.000000</td>\n",
       "      <td>0.000000</td>\n",
       "      <td>0.500000</td>\n",
       "      <td>1.855000</td>\n",
       "    </tr>\n",
       "    <tr>\n",
       "      <th>75%</th>\n",
       "      <td>1.000000</td>\n",
       "      <td>0.000000</td>\n",
       "      <td>0.000000</td>\n",
       "      <td>0.000000</td>\n",
       "      <td>0.000000</td>\n",
       "      <td>0.000000</td>\n",
       "      <td>0.00000</td>\n",
       "      <td>0.000000</td>\n",
       "      <td>0.000000</td>\n",
       "      <td>0.000000</td>\n",
       "      <td>...</td>\n",
       "      <td>0.000000</td>\n",
       "      <td>0.000000</td>\n",
       "      <td>2.000000</td>\n",
       "      <td>3139.250000</td>\n",
       "      <td>3353.000000</td>\n",
       "      <td>1.000000</td>\n",
       "      <td>1.000000</td>\n",
       "      <td>0.000000</td>\n",
       "      <td>1.000000</td>\n",
       "      <td>152.532500</td>\n",
       "    </tr>\n",
       "    <tr>\n",
       "      <th>max</th>\n",
       "      <td>1.000000</td>\n",
       "      <td>1.000000</td>\n",
       "      <td>1.000000</td>\n",
       "      <td>1.000000</td>\n",
       "      <td>1.000000</td>\n",
       "      <td>1.000000</td>\n",
       "      <td>1.00000</td>\n",
       "      <td>1.000000</td>\n",
       "      <td>1.000000</td>\n",
       "      <td>1.000000</td>\n",
       "      <td>...</td>\n",
       "      <td>1.000000</td>\n",
       "      <td>1.000000</td>\n",
       "      <td>15.000000</td>\n",
       "      <td>4188.000000</td>\n",
       "      <td>4188.000000</td>\n",
       "      <td>1.000000</td>\n",
       "      <td>1.000000</td>\n",
       "      <td>1.000000</td>\n",
       "      <td>1.000000</td>\n",
       "      <td>1500.060000</td>\n",
       "    </tr>\n",
       "  </tbody>\n",
       "</table>\n",
       "<p>8 rows × 24 columns</p>\n",
       "</div>"
      ],
      "text/plain": [
       "                US     source_a     source_c     source_b     source_d  \\\n",
       "count  2000.000000  2000.000000  2000.000000  2000.000000  2000.000000   \n",
       "mean      0.824500     0.126500     0.056000     0.060000     0.041500   \n",
       "std       0.380489     0.332495     0.229979     0.237546     0.199493   \n",
       "min       0.000000     0.000000     0.000000     0.000000     0.000000   \n",
       "25%       1.000000     0.000000     0.000000     0.000000     0.000000   \n",
       "50%       1.000000     0.000000     0.000000     0.000000     0.000000   \n",
       "75%       1.000000     0.000000     0.000000     0.000000     0.000000   \n",
       "max       1.000000     1.000000     1.000000     1.000000     1.000000   \n",
       "\n",
       "          source_e    source_m     source_o     source_h     source_r  ...  \\\n",
       "count  2000.000000  2000.00000  2000.000000  2000.000000  2000.000000  ...   \n",
       "mean      0.151000     0.01650     0.033500     0.052500     0.068500  ...   \n",
       "std       0.358138     0.12742     0.179983     0.223089     0.252665  ...   \n",
       "min       0.000000     0.00000     0.000000     0.000000     0.000000  ...   \n",
       "25%       0.000000     0.00000     0.000000     0.000000     0.000000  ...   \n",
       "50%       0.000000     0.00000     0.000000     0.000000     0.000000  ...   \n",
       "75%       0.000000     0.00000     0.000000     0.000000     0.000000  ...   \n",
       "max       1.000000     1.00000     1.000000     1.000000     1.000000  ...   \n",
       "\n",
       "          source_x     source_w         Freq  last_update_days_ago  \\\n",
       "count  2000.000000  2000.000000  2000.000000           2000.000000   \n",
       "mean      0.018000     0.137500     1.417000           2155.101000   \n",
       "std       0.132984     0.344461     1.405738           1141.302846   \n",
       "min       0.000000     0.000000     0.000000              1.000000   \n",
       "25%       0.000000     0.000000     1.000000           1133.000000   \n",
       "50%       0.000000     0.000000     1.000000           2280.000000   \n",
       "75%       0.000000     0.000000     2.000000           3139.250000   \n",
       "max       1.000000     1.000000    15.000000           4188.000000   \n",
       "\n",
       "       1st_update_days_ago    Web order  Gender=male  Address_is_res  \\\n",
       "count          2000.000000  2000.000000  2000.000000     2000.000000   \n",
       "mean           2435.601500     0.426000     0.524500        0.221000   \n",
       "std            1077.872233     0.494617     0.499524        0.415024   \n",
       "min               1.000000     0.000000     0.000000        0.000000   \n",
       "25%            1671.250000     0.000000     0.000000        0.000000   \n",
       "50%            2721.000000     0.000000     1.000000        0.000000   \n",
       "75%            3353.000000     1.000000     1.000000        0.000000   \n",
       "max            4188.000000     1.000000     1.000000        1.000000   \n",
       "\n",
       "          Purchase     Spending  \n",
       "count  2000.000000  2000.000000  \n",
       "mean      0.500000   102.560745  \n",
       "std       0.500125   186.749816  \n",
       "min       0.000000     0.000000  \n",
       "25%       0.000000     0.000000  \n",
       "50%       0.500000     1.855000  \n",
       "75%       1.000000   152.532500  \n",
       "max       1.000000  1500.060000  \n",
       "\n",
       "[8 rows x 24 columns]"
      ]
     },
     "execution_count": 3,
     "metadata": {},
     "output_type": "execute_result"
    }
   ],
   "source": [
    "data.describe()"
   ]
  },
  {
   "cell_type": "code",
   "execution_count": 4,
   "id": "85bc3c97",
   "metadata": {},
   "outputs": [
    {
     "name": "stdout",
     "output_type": "stream",
     "text": [
      "The dimensions of the data set are 2000 by 24\n"
     ]
    }
   ],
   "source": [
    "n_samples, n_features = data.shape\n",
    "print ('The dimensions of the data set are', n_samples, 'by', n_features)"
   ]
  },
  {
   "cell_type": "code",
   "execution_count": 5,
   "id": "a313c8ef",
   "metadata": {},
   "outputs": [],
   "source": [
    "X = data.drop(['Spending','Purchase'],axis=1)\n",
    "y = data[['Spending']]"
   ]
  },
  {
   "cell_type": "code",
   "execution_count": 6,
   "id": "852ddad2",
   "metadata": {},
   "outputs": [],
   "source": [
    "# categorical \n",
    "cat_col=[['US', 'source_a', 'source_c', 'source_b', 'source_d', 'source_e','source_m', 'source_o', 'source_h', 'source_r', 'source_s', 'source_t',\n",
    "'source_u', 'source_p', 'source_x', 'source_w', 'Web order','Gender=male', 'Address_is_res']]\n",
    "\n",
    "for col in cat_col:\n",
    "    X[col] = X[col].astype(\"category\")"
   ]
  },
  {
   "cell_type": "code",
   "execution_count": 7,
   "id": "d94e82e7",
   "metadata": {},
   "outputs": [],
   "source": [
    "# numeric\n",
    "num_col=[\"Freq\", \"last_update_days_ago\", \"1st_update_days_ago\"]"
   ]
  },
  {
   "cell_type": "markdown",
   "id": "69ae3583",
   "metadata": {},
   "source": [
    "## Normalization"
   ]
  },
  {
   "cell_type": "code",
   "execution_count": 8,
   "id": "56105596",
   "metadata": {},
   "outputs": [],
   "source": [
    "scaler = StandardScaler()\n",
    "X_normalized = scaler.fit_transform(X[num_col])\n",
    "X_normalized = pd.DataFrame(X_normalized, columns=num_col)"
   ]
  },
  {
   "cell_type": "code",
   "execution_count": 10,
   "id": "f735c383",
   "metadata": {},
   "outputs": [],
   "source": [
    "# cat\n",
    "X = X.drop(X[num_col], axis = 1)\n",
    "# new = cat + num\n",
    "X = pd.concat([X, X_normalized], axis=1)"
   ]
  },
  {
   "cell_type": "markdown",
   "id": "e10638b7",
   "metadata": {},
   "source": [
    "# Modeling (a): all data"
   ]
  },
  {
   "cell_type": "markdown",
   "id": "8b60300a",
   "metadata": {},
   "source": [
    "## Split training and testing set"
   ]
  },
  {
   "cell_type": "code",
   "execution_count": 11,
   "id": "1819d84a",
   "metadata": {},
   "outputs": [],
   "source": [
    "X_train, X_test, y_train, y_test = train_test_split(X, y, test_size=0.3, random_state=42)"
   ]
  },
  {
   "cell_type": "code",
   "execution_count": 12,
   "id": "6d807e4b",
   "metadata": {},
   "outputs": [],
   "source": [
    "for col in cat_col:\n",
    "    X_train[col] = X_train[col].astype(\"float\")\n",
    "    X_test[col]= X_test[col].astype(\"float\")"
   ]
  },
  {
   "cell_type": "markdown",
   "id": "9e646e44",
   "metadata": {},
   "source": [
    "## Score"
   ]
  },
  {
   "cell_type": "code",
   "execution_count": 13,
   "id": "bcd0213c",
   "metadata": {},
   "outputs": [],
   "source": [
    "def MSE(y_test, y_pred):\n",
    "    mse = mean_squared_error(y_test, y_pred)\n",
    "    return mse\n",
    "\n",
    "def score():\n",
    "    return make_scorer(MSE, greater_is_better=False)"
   ]
  },
  {
   "cell_type": "markdown",
   "id": "055bb355",
   "metadata": {},
   "source": [
    "## Cross-validation for inner and outer loops"
   ]
  },
  {
   "cell_type": "code",
   "execution_count": 14,
   "id": "0fc0c6a8",
   "metadata": {},
   "outputs": [],
   "source": [
    "i = 42\n",
    "inner_cv = KFold(n_splits=4, shuffle=True, random_state=i)\n",
    "outer_cv = KFold(n_splits=4, shuffle=True, random_state=i)"
   ]
  },
  {
   "cell_type": "markdown",
   "id": "e44fc30b",
   "metadata": {},
   "source": [
    "##  linear regression"
   ]
  },
  {
   "cell_type": "code",
   "execution_count": 15,
   "id": "db794c25",
   "metadata": {},
   "outputs": [
    {
     "name": "stdout",
     "output_type": "stream",
     "text": [
      "best params:  {'l1_ratio': 0.9}\n",
      "rmse:  129.62258077177015\n"
     ]
    }
   ],
   "source": [
    "lr = ElasticNet(random_state = 42)\n",
    "ratio = [0.1, 0.3, 0.5, 0.7, 0.9]\n",
    "lr_grid = {'l1_ratio':ratio}\n",
    "         \n",
    "lr_clf = GridSearchCV(estimator=lr, param_grid=lr_grid,cv=inner_cv, scoring = score())\n",
    "lr_pred = lr_clf.fit(X_train, y_train)\n",
    "\n",
    "print('best params: ', lr_pred.best_params_)\n",
    "print('rmse: ', np.sqrt(-lr_pred.best_score_))"
   ]
  },
  {
   "cell_type": "markdown",
   "id": "9bb9fd02",
   "metadata": {},
   "source": [
    "## K-NN"
   ]
  },
  {
   "cell_type": "code",
   "execution_count": 16,
   "id": "d5944e79",
   "metadata": {},
   "outputs": [
    {
     "name": "stdout",
     "output_type": "stream",
     "text": [
      "best params:  {'n_neighbors': 8}\n",
      "rmse:  130.3426530853851\n"
     ]
    }
   ],
   "source": [
    "k = list(range(2,10))\n",
    "knn_grid = {'n_neighbors':k}\n",
    "\n",
    "knn = KNeighborsRegressor()\n",
    "knn_clf = GridSearchCV(knn, knn_grid, cv=inner_cv, scoring=score())\n",
    "knn_pred = knn_clf.fit(X_train, y_train)\n",
    "\n",
    "print('best params: ', knn_pred.best_params_)\n",
    "print('rmse: ', np.sqrt(-knn_pred.best_score_))"
   ]
  },
  {
   "cell_type": "markdown",
   "id": "7ea85ded",
   "metadata": {},
   "source": [
    "## Regression tree"
   ]
  },
  {
   "cell_type": "code",
   "execution_count": 17,
   "id": "78317629",
   "metadata": {},
   "outputs": [
    {
     "name": "stdout",
     "output_type": "stream",
     "text": [
      "best params:  {'max_depth': 3}\n",
      "rmse:  137.8310639730004\n"
     ]
    }
   ],
   "source": [
    "depth = list(range(2,6))\n",
    "rt_grid = {'max_depth':depth}\n",
    "\n",
    "tree = DecisionTreeRegressor()\n",
    "rt_clf = GridSearchCV(tree, rt_grid, cv=inner_cv, scoring=score())\n",
    "rt_pred = rt_clf.fit(X, y)\n",
    "\n",
    "print('best params: ', rt_pred.best_params_)\n",
    "print('rmse: ', np.sqrt(-rt_pred.best_score_))"
   ]
  },
  {
   "cell_type": "markdown",
   "id": "bd6ee442",
   "metadata": {},
   "source": [
    "## SVM regression"
   ]
  },
  {
   "cell_type": "code",
   "execution_count": 18,
   "id": "dd2ac818",
   "metadata": {
    "scrolled": true
   },
   "outputs": [
    {
     "name": "stdout",
     "output_type": "stream",
     "text": [
      "best params:  {'C': 100, 'gamma': 'auto', 'kernel': 'rbf'}\n",
      "rmse: 134.96664056364997\n"
     ]
    }
   ],
   "source": [
    "kernel = ['rbf']\n",
    "c = [1, 10, 100]\n",
    "g =  ['scale', 'auto']\n",
    "\n",
    "svr_grid = {'kernel':kernel, 'C':c, 'gamma':g} \n",
    "svr = SVR()\n",
    "svr_clf = GridSearchCV(svr, svr_grid, cv=inner_cv, scoring=score())\n",
    "svr_pred = svr_clf.fit(X_train, y_train)\n",
    "\n",
    "print('best params: ', svr_pred.best_params_)\n",
    "print('rmse:' , np.sqrt(-svr_pred.best_score_))"
   ]
  },
  {
   "cell_type": "markdown",
   "id": "5a49deef",
   "metadata": {},
   "source": [
    "## Ensembling models"
   ]
  },
  {
   "cell_type": "markdown",
   "id": "b125e80c",
   "metadata": {},
   "source": [
    "Use Linear regression, regression tree, knn and svr for stacking, and tune hyperparameter in regression tree."
   ]
  },
  {
   "cell_type": "code",
   "execution_count": 19,
   "id": "d8c16bf5",
   "metadata": {},
   "outputs": [
    {
     "name": "stdout",
     "output_type": "stream",
     "text": [
      "best params:  {'regression tree__max_depth': 4}\n",
      "rmse: 128.43318879681942\n"
     ]
    }
   ],
   "source": [
    "estimator = [('linear regression', ElasticNet(l1_ratio= 0.9)),\n",
    "             ('regression tree', DecisionTreeRegressor()),\n",
    "             ('knn', KNeighborsRegressor(n_neighbors=8)),\n",
    "             ('svr', SVR(C=100, gamma= 'auto', kernel= 'rbf'))]\n",
    "\n",
    "srlf = StackingRegressor(estimators= estimator, final_estimator=RandomForestRegressor())\n",
    "grid = {'regression tree__max_depth':list(range(2,6))}\n",
    "search=GridSearchCV(estimator=srlf, param_grid=grid,cv = inner_cv, scoring = score())\n",
    "result=search.fit(X_train,y_train)\n",
    "\n",
    "print('best params: ', result.best_params_)\n",
    "print('rmse:' , np.sqrt(-result.best_score_))"
   ]
  },
  {
   "cell_type": "markdown",
   "id": "0e86fa95",
   "metadata": {},
   "source": [
    "## Neural Network"
   ]
  },
  {
   "cell_type": "code",
   "execution_count": 20,
   "id": "741b547f",
   "metadata": {},
   "outputs": [],
   "source": [
    "def create_model(activation, nb_hidden):\n",
    "    model = Sequential()\n",
    "    model.add(Dense(nb_hidden, input_dim=X_train.shape[1], activation=activation))\n",
    "    model.add(Dense(1))\n",
    "    model.compile(loss='mean_squared_error', optimizer='adam', metrics=['mse'])\n",
    "    return model\n",
    "\n",
    "act = ['relu','tanh']\n",
    "hidden = [64, 128, 256]\n",
    "epoch=list(range(3, 10))\n",
    "\n",
    "NN_grid = {'activation':act,'nb_hidden':hidden, 'epochs':epoch}\n",
    "NN = KerasRegressor(build_fn=create_model, batch_size=256, verbose=0)"
   ]
  },
  {
   "cell_type": "code",
   "execution_count": 21,
   "id": "609eb629",
   "metadata": {
    "scrolled": true
   },
   "outputs": [
    {
     "name": "stdout",
     "output_type": "stream",
     "text": [
      "WARNING:tensorflow:5 out of the last 9 calls to <function Model.make_predict_function.<locals>.predict_function at 0x000002059066F0D8> triggered tf.function retracing. Tracing is expensive and the excessive number of tracings could be due to (1) creating @tf.function repeatedly in a loop, (2) passing tensors with different shapes, (3) passing Python objects instead of tensors. For (1), please define your @tf.function outside of the loop. For (2), @tf.function has reduce_retracing=True option that can avoid unnecessary retracing. For (3), please refer to https://www.tensorflow.org/guide/function#controlling_retracing and https://www.tensorflow.org/api_docs/python/tf/function for  more details.\n",
      "WARNING:tensorflow:6 out of the last 11 calls to <function Model.make_predict_function.<locals>.predict_function at 0x0000020584FF8F78> triggered tf.function retracing. Tracing is expensive and the excessive number of tracings could be due to (1) creating @tf.function repeatedly in a loop, (2) passing tensors with different shapes, (3) passing Python objects instead of tensors. For (1), please define your @tf.function outside of the loop. For (2), @tf.function has reduce_retracing=True option that can avoid unnecessary retracing. For (3), please refer to https://www.tensorflow.org/guide/function#controlling_retracing and https://www.tensorflow.org/api_docs/python/tf/function for  more details.\n",
      "best params:  {'activation': 'tanh', 'epochs': 9, 'nb_hidden': 256}\n",
      "rmse: 211.42966178602362\n"
     ]
    }
   ],
   "source": [
    "NN_clf = GridSearchCV(estimator=NN, param_grid=NN_grid, scoring = score(), cv=5)\n",
    "NN_pred=NN_clf.fit(X_train, y_train)\n",
    "\n",
    "print('best params: ', NN_pred.best_params_)\n",
    "print('rmse:' , np.sqrt(-NN_pred.best_score_))"
   ]
  },
  {
   "cell_type": "markdown",
   "id": "f8bf81c6",
   "metadata": {},
   "source": []
  },
  {
   "cell_type": "markdown",
   "id": "a0b7ff0b",
   "metadata": {},
   "source": [
    "## Compate score between models"
   ]
  },
  {
   "cell_type": "code",
   "execution_count": 22,
   "id": "c42831f5",
   "metadata": {},
   "outputs": [],
   "source": [
    "lr_score = cross_val_score(lr_clf, X=X_normalized, y=y, cv=outer_cv)\n",
    "knn_score = cross_val_score(knn_clf, X=X_normalized, y=y, cv=outer_cv)\n",
    "rt_score = cross_val_score(rt_clf , X=X_normalized, y=y, cv=outer_cv)\n",
    "svm_score = cross_val_score(svr_clf, X=X_normalized, y=y, cv=outer_cv)\n",
    "stack_score = cross_val_score(search, X=X_normalized, y=y, cv=outer_cv)"
   ]
  },
  {
   "cell_type": "code",
   "execution_count": 23,
   "id": "7be40f3d",
   "metadata": {},
   "outputs": [
    {
     "data": {
      "text/plain": [
       "{'linear regression': -18335.41238831878,\n",
       " 'KNN': -18087.422392807333,\n",
       " 'Regression tree': -20912.865511454293,\n",
       " 'SVR': -20894.365836420966,\n",
       " 'Stack': -20375.502124324896}"
      ]
     },
     "execution_count": 23,
     "metadata": {},
     "output_type": "execute_result"
    }
   ],
   "source": [
    "score = {}\n",
    "score['linear regression'] = lr_score.mean()\n",
    "score['KNN'] = knn_score.mean()\n",
    "score['Regression tree'] = rt_score.mean()\n",
    "score['SVR'] = svm_score.mean()\n",
    "score['Stack'] = stack_score.mean()\n",
    "score"
   ]
  },
  {
   "cell_type": "markdown",
   "id": "8174fda8",
   "metadata": {},
   "source": [
    "The KNN model has the lowest MSE.(-18087)"
   ]
  },
  {
   "cell_type": "markdown",
   "id": "8247d58a",
   "metadata": {},
   "source": [
    "# Modeling (b): Purchase = 1"
   ]
  },
  {
   "cell_type": "code",
   "execution_count": 26,
   "id": "33fb1ed1",
   "metadata": {},
   "outputs": [],
   "source": [
    "datab = data[data['Purchase'] == 1]"
   ]
  },
  {
   "cell_type": "code",
   "execution_count": 27,
   "id": "682988a8",
   "metadata": {},
   "outputs": [],
   "source": [
    "X = datab.drop(['Spending','Purchase'],axis=1)\n",
    "y = datab[['Spending']]"
   ]
  },
  {
   "cell_type": "code",
   "execution_count": 28,
   "id": "920cc021",
   "metadata": {},
   "outputs": [],
   "source": [
    "# categorical \n",
    "cat_col=[['US', 'source_a', 'source_c', 'source_b', 'source_d', 'source_e','source_m', 'source_o', 'source_h', 'source_r', 'source_s', 'source_t',\n",
    "'source_u', 'source_p', 'source_x', 'source_w', 'Web order','Gender=male', 'Address_is_res']]\n",
    "\n",
    "for col in cat_col:\n",
    "    X[col] = X[col].astype(\"category\")\n",
    "    \n",
    "X.reset_index(inplace=True)"
   ]
  },
  {
   "cell_type": "code",
   "execution_count": 29,
   "id": "eb7be068",
   "metadata": {},
   "outputs": [],
   "source": [
    "# numeric\n",
    "num_col=[\"Freq\", \"last_update_days_ago\", \"1st_update_days_ago\"]"
   ]
  },
  {
   "cell_type": "markdown",
   "id": "a36cdfa3",
   "metadata": {},
   "source": [
    "## Normalization"
   ]
  },
  {
   "cell_type": "code",
   "execution_count": 30,
   "id": "e043dd13",
   "metadata": {},
   "outputs": [],
   "source": [
    "scaler = StandardScaler()\n",
    "X_normalized = scaler.fit_transform(X[num_col])\n",
    "X_normalized = pd.DataFrame(X_normalized, columns=num_col)"
   ]
  },
  {
   "cell_type": "code",
   "execution_count": 31,
   "id": "ca4c1d98",
   "metadata": {},
   "outputs": [],
   "source": [
    "# # cat\n",
    "X = X.drop(X[num_col], axis = 1)\n",
    "# # new = cat + num\n",
    "X_normalized = pd.concat([X, X_normalized], axis=1)\n",
    "# X_normalized"
   ]
  },
  {
   "cell_type": "markdown",
   "id": "0a9ae58e",
   "metadata": {},
   "source": [
    "## Split training and testing set"
   ]
  },
  {
   "cell_type": "code",
   "execution_count": 32,
   "id": "07e63074",
   "metadata": {},
   "outputs": [],
   "source": [
    "X_train, X_test, y_train, y_test = train_test_split(X_normalized, y, test_size=0.3, random_state=42)"
   ]
  },
  {
   "cell_type": "markdown",
   "id": "e3aadaa8",
   "metadata": {},
   "source": [
    "## Score"
   ]
  },
  {
   "cell_type": "code",
   "execution_count": 33,
   "id": "5e7f2218",
   "metadata": {},
   "outputs": [],
   "source": [
    "def MSE(y_test, y_pred):\n",
    "    mse = mean_squared_error(y_test, y_pred)\n",
    "    return mse\n",
    "\n",
    "def score():\n",
    "    return make_scorer(MSE, greater_is_better=False)"
   ]
  },
  {
   "cell_type": "markdown",
   "id": "4e34514f",
   "metadata": {},
   "source": [
    "## Cross-validation for inner and outer loops"
   ]
  },
  {
   "cell_type": "code",
   "execution_count": 37,
   "id": "6f4fe964",
   "metadata": {},
   "outputs": [],
   "source": [
    "i = 42\n",
    "inner_cv = KFold(n_splits=4, shuffle=True, random_state=i)\n",
    "outer_cv = KFold(n_splits=4, shuffle=True, random_state=i)"
   ]
  },
  {
   "cell_type": "markdown",
   "id": "abb25a54",
   "metadata": {},
   "source": [
    "## linear regression"
   ]
  },
  {
   "cell_type": "code",
   "execution_count": 35,
   "id": "32c36b83",
   "metadata": {},
   "outputs": [
    {
     "name": "stdout",
     "output_type": "stream",
     "text": [
      "best params:  {'l1_ratio': 0.9}\n",
      "rmse:  160.9491083348334\n"
     ]
    }
   ],
   "source": [
    "lr = ElasticNet(random_state = 42)\n",
    "ratio = [0.1, 0.3, 0.5, 0.7, 0.9]\n",
    "lr_grid = {'l1_ratio':ratio}\n",
    "         \n",
    "lr_clf = GridSearchCV(estimator=lr, param_grid=lr_grid,cv=inner_cv, scoring = score())\n",
    "lr_pred = lr_clf.fit(X_train, y_train)\n",
    "\n",
    "print('best params: ', lr_pred.best_params_)\n",
    "print('rmse: ', np.sqrt(-lr_pred.best_score_))"
   ]
  },
  {
   "cell_type": "markdown",
   "id": "bb364bb2",
   "metadata": {},
   "source": [
    "## knn"
   ]
  },
  {
   "cell_type": "code",
   "execution_count": 36,
   "id": "d89f2444",
   "metadata": {},
   "outputs": [
    {
     "name": "stdout",
     "output_type": "stream",
     "text": [
      "best params:  {'n_neighbors': 9}\n",
      "rmse:  221.7687165879512\n"
     ]
    }
   ],
   "source": [
    "k = list(range(2,10))\n",
    "knn_grid = {'n_neighbors':k}\n",
    "\n",
    "knn = KNeighborsRegressor()\n",
    "knn_clf = GridSearchCV(knn, knn_grid, cv=inner_cv, scoring=score())\n",
    "knn_pred = knn_clf.fit(X_train, y_train)\n",
    "\n",
    "print('best params: ', knn_pred.best_params_)\n",
    "print('rmse: ', np.sqrt(-knn_pred.best_score_))"
   ]
  },
  {
   "cell_type": "markdown",
   "id": "737d9049",
   "metadata": {},
   "source": [
    "## Regression tree"
   ]
  },
  {
   "cell_type": "code",
   "execution_count": 38,
   "id": "85aecf07",
   "metadata": {},
   "outputs": [
    {
     "name": "stdout",
     "output_type": "stream",
     "text": [
      "best params:  {'max_depth': 2}\n",
      "rmse:  227.68424077233254\n"
     ]
    }
   ],
   "source": [
    "depth = list(range(2,6))\n",
    "rt_grid = {'max_depth':depth}\n",
    "\n",
    "tree = DecisionTreeRegressor()\n",
    "rt_clf = GridSearchCV(tree, rt_grid, cv=inner_cv, scoring=score())\n",
    "rt_pred = rt_clf.fit(X, y)\n",
    "\n",
    "print('best params: ', rt_pred.best_params_)\n",
    "print('rmse: ', np.sqrt(-rt_pred.best_score_))"
   ]
  },
  {
   "cell_type": "markdown",
   "id": "dbe1cdc6",
   "metadata": {},
   "source": [
    "## SVM regression"
   ]
  },
  {
   "cell_type": "code",
   "execution_count": 39,
   "id": "053ee91a",
   "metadata": {},
   "outputs": [
    {
     "name": "stdout",
     "output_type": "stream",
     "text": [
      "best params:  {'C': 1, 'gamma': 'scale', 'kernel': 'rbf'}\n",
      "rmse: 212.662801951569\n"
     ]
    }
   ],
   "source": [
    "kernel = ['rbf']\n",
    "c = [1, 10, 100]\n",
    "g =  ['scale', 'auto']\n",
    "\n",
    "svr_grid = {'kernel':kernel, 'C':c, 'gamma':g} \n",
    "svr = SVR()\n",
    "svr_clf = GridSearchCV(svr, svr_grid, cv=inner_cv, scoring=score())\n",
    "svr_pred = svr_clf.fit(X_train, y_train)\n",
    "\n",
    "print('best params: ', svr_pred.best_params_)\n",
    "print('rmse:' , np.sqrt(-svr_pred.best_score_))"
   ]
  },
  {
   "cell_type": "markdown",
   "id": "4881e7b8",
   "metadata": {},
   "source": [
    "## Ensembling models"
   ]
  },
  {
   "cell_type": "code",
   "execution_count": 40,
   "id": "6d0e7d82",
   "metadata": {},
   "outputs": [
    {
     "name": "stdout",
     "output_type": "stream",
     "text": [
      "best params:  {'regression tree__max_depth': 3}\n",
      "rmse: 164.56686855550615\n"
     ]
    }
   ],
   "source": [
    "estimator = [('linear regression', ElasticNet(l1_ratio= 0.9)),\n",
    "             ('regression tree', DecisionTreeRegressor()),\n",
    "             ('knn', KNeighborsRegressor(n_neighbors=9)),\n",
    "             ('svr', SVR(C=1, gamma= 'scale', kernel= 'rbf'))]\n",
    "\n",
    "srlf = StackingRegressor(estimators= estimator, final_estimator=RandomForestRegressor())\n",
    "grid = {'regression tree__max_depth':list(range(2,6))}\n",
    "search=GridSearchCV(estimator=srlf, param_grid=grid,cv = inner_cv, scoring = score())\n",
    "result=search.fit(X_train,y_train)\n",
    "\n",
    "print('best params: ', result.best_params_)\n",
    "print('rmse:' , np.sqrt(-result.best_score_))"
   ]
  },
  {
   "cell_type": "markdown",
   "id": "c8adbf5c",
   "metadata": {},
   "source": [
    "## Neural Network"
   ]
  },
  {
   "cell_type": "code",
   "execution_count": 41,
   "id": "1cd9984b",
   "metadata": {},
   "outputs": [],
   "source": [
    "def create_model(activation, nb_hidden):\n",
    "    model = Sequential()\n",
    "    model.add(Dense(nb_hidden, input_dim=X_train.shape[1], activation=activation))\n",
    "    model.add(Dense(1))\n",
    "    model.compile(loss='mean_squared_error', optimizer='adam', metrics=['mse'])\n",
    "    return model\n",
    "\n",
    "act = ['relu','tanh']\n",
    "hidden = [64, 128, 256]\n",
    "epoch=list(range(3, 10))\n",
    "\n",
    "NN_grid = {'activation':act,'nb_hidden':hidden, 'epochs':epoch}\n",
    "NN = KerasRegressor(build_fn=create_model, batch_size=256, verbose=0)"
   ]
  },
  {
   "cell_type": "code",
   "execution_count": 42,
   "id": "50a4236a",
   "metadata": {},
   "outputs": [
    {
     "name": "stdout",
     "output_type": "stream",
     "text": [
      "best params:  {'activation': 'relu', 'epochs': 4, 'nb_hidden': 256}\n",
      "rmse: 230.27771737924004\n"
     ]
    }
   ],
   "source": [
    "NN_clf = GridSearchCV(estimator=NN, param_grid=NN_grid, scoring = score(), cv=inner_cv)\n",
    "NN_pred=NN_clf.fit(X_train, y_train)\n",
    "\n",
    "print('best params: ', NN_pred.best_params_)\n",
    "print('rmse:' , np.sqrt(-NN_pred.best_score_))"
   ]
  },
  {
   "cell_type": "markdown",
   "id": "a3833566",
   "metadata": {},
   "source": [
    "## Compate score between models"
   ]
  },
  {
   "cell_type": "code",
   "execution_count": 43,
   "id": "ec3580af",
   "metadata": {},
   "outputs": [],
   "source": [
    "lr_score = cross_val_score(lr_clf, X=X_normalized, y=y, cv=outer_cv)\n",
    "knn_score = cross_val_score(knn_clf, X=X_normalized, y=y, cv=outer_cv)\n",
    "rt_score = cross_val_score(rt_clf , X=X_normalized, y=y, cv=outer_cv)\n",
    "svm_score = cross_val_score(svr_clf, X=X_normalized, y=y, cv=outer_cv)\n",
    "stack_score = cross_val_score(search, X=X_normalized, y=y, cv=outer_cv)"
   ]
  },
  {
   "cell_type": "code",
   "execution_count": 44,
   "id": "9ebd743b",
   "metadata": {},
   "outputs": [
    {
     "data": {
      "text/plain": [
       "{'linear regression': -27486.51821305923,\n",
       " 'KNN': -53244.165965188884,\n",
       " 'Regression tree': -32878.97117092854,\n",
       " 'SVR': -51678.047770637604,\n",
       " 'Stack': -29872.83210105402}"
      ]
     },
     "execution_count": 44,
     "metadata": {},
     "output_type": "execute_result"
    }
   ],
   "source": [
    "score = {}\n",
    "score['linear regression'] = lr_score.mean()\n",
    "score['KNN'] = knn_score.mean()\n",
    "score['Regression tree'] = rt_score.mean()\n",
    "score['SVR'] = svm_score.mean()\n",
    "score['Stack'] = stack_score.mean()\n",
    "score"
   ]
  },
  {
   "cell_type": "markdown",
   "id": "b4981a50",
   "metadata": {},
   "source": [
    "The linear regression model has the lowest MSE."
   ]
  },
  {
   "cell_type": "markdown",
   "id": "cbfb8eeb",
   "metadata": {},
   "source": [
    "# (c) Comparison"
   ]
  },
  {
   "cell_type": "markdown",
   "id": "bfe4598d",
   "metadata": {},
   "source": [
    "Overall, MSE in 5 models drop from (a) to (b):\n",
    "\n",
    "'linear regression': -18335 -> -27486\n",
    "'KNN': -18087 -> -53244,\n",
    "'Regression tree': -20912 -> -32878,\n",
    "'SVR': -20894 -> -51678,\n",
    "'Stack': -20375 -> -29872\n",
    "\n",
    "In (a) which includes purchasing=1 and purchasing = 0, the KNN model has the lowest MSE. In (b) which only contains purchasing = 1, the linear regression model has the lowest MSE. The possible reason is the sample size is smaller and consumers who spend dollars for purchasing has more variations in different columns(source, weborder...)."
   ]
  }
 ],
 "metadata": {
  "kernelspec": {
   "display_name": "virtual_py37",
   "language": "python",
   "name": "virtual_py37"
  },
  "language_info": {
   "codemirror_mode": {
    "name": "ipython",
    "version": 3
   },
   "file_extension": ".py",
   "mimetype": "text/x-python",
   "name": "python",
   "nbconvert_exporter": "python",
   "pygments_lexer": "ipython3",
   "version": "3.7.13"
  }
 },
 "nbformat": 4,
 "nbformat_minor": 5
}
